{
 "cells": [
  {
   "cell_type": "markdown",
   "metadata": {},
   "source": [
    "** Naive Bayes Classifier **\n",
    "\n",
    "* 지도학습의 한 종류로 간단한 분류기\n",
    "* 두 사건을 서로 독립이라 가정하고 각가의 조건부 확률을 계산\n",
    "\n",
    "\n",
    "[예]\n",
    "\n",
    "        i like you         pos        \n",
    "        i hate you         neg        \n",
    "        you like me        neg        \n",
    "        i like her         pos        \n",
    "        i like dog         ???"
   ]
  },
  {
   "cell_type": "code",
   "execution_count": 8,
   "metadata": {},
   "outputs": [
    {
     "name": "stderr",
     "output_type": "stream",
     "text": [
      "[nltk_data] Downloading package punkt to\n",
      "[nltk_data]     C:\\Users\\kosmo\\AppData\\Roaming\\nltk_data...\n",
      "[nltk_data]   Unzipping tokenizers\\punkt.zip.\n"
     ]
    },
    {
     "data": {
      "text/plain": [
       "True"
      ]
     },
     "execution_count": 8,
     "metadata": {},
     "output_type": "execute_result"
    }
   ],
   "source": [
    "from nltk.tokenize import word_tokenize\n",
    "import nltk\n",
    "\n",
    "nltk.download('punkt')\n"
   ]
  },
  {
   "cell_type": "code",
   "execution_count": 5,
   "metadata": {},
   "outputs": [],
   "source": [
    "\"\"\" 훈련데이타 \"\"\" \n",
    "train = [('i like you', 'pos'), \n",
    "         ('i hate you', 'neg'), \n",
    "         ('you dislike me', 'neg'),\n",
    "         ('i like her', 'pos')]"
   ]
  },
  {
   "cell_type": "code",
   "execution_count": 9,
   "metadata": {
    "scrolled": true
   },
   "outputs": [
    {
     "data": {
      "text/plain": [
       "{'dislike', 'hate', 'her', 'i', 'like', 'me', 'you'}"
      ]
     },
     "execution_count": 9,
     "metadata": {},
     "output_type": "execute_result"
    }
   ],
   "source": [
    "# 훈련문장에서 사용된 단어들 모두 찾기\n",
    "all_words = set(word.lower() for sentence in train \n",
    "                             for word in word_tokenize(sentence[0]))\n",
    "all_words\n"
   ]
  },
  {
   "cell_type": "code",
   "execution_count": 13,
   "metadata": {},
   "outputs": [
    {
     "data": {
      "text/plain": [
       "[({'dislike': False,\n",
       "   'hate': False,\n",
       "   'you': True,\n",
       "   'like': True,\n",
       "   'her': False,\n",
       "   'i': True,\n",
       "   'me': False},\n",
       "  'pos'),\n",
       " ({'dislike': False,\n",
       "   'hate': True,\n",
       "   'you': True,\n",
       "   'like': False,\n",
       "   'her': False,\n",
       "   'i': True,\n",
       "   'me': False},\n",
       "  'neg'),\n",
       " ({'dislike': True,\n",
       "   'hate': False,\n",
       "   'you': True,\n",
       "   'like': False,\n",
       "   'her': False,\n",
       "   'i': False,\n",
       "   'me': True},\n",
       "  'neg'),\n",
       " ({'dislike': False,\n",
       "   'hate': False,\n",
       "   'you': False,\n",
       "   'like': True,\n",
       "   'her': True,\n",
       "   'i': True,\n",
       "   'me': False},\n",
       "  'pos')]"
      ]
     },
     "execution_count": 13,
     "metadata": {},
     "output_type": "execute_result"
    }
   ],
   "source": [
    "# 위 모든 단어들이 각각 훈련문장에 속한 단어인지 아닌지 확인\n",
    "t = [({word: (word in word_tokenize(x[0])) for word in all_words}, x[1])\n",
    "                                                        for x in train]\n",
    "t\n"
   ]
  },
  {
   "cell_type": "code",
   "execution_count": 18,
   "metadata": {},
   "outputs": [],
   "source": [
    "clf = nltk.NaiveBayesClassifier.train(t)\n"
   ]
  },
  {
   "cell_type": "code",
   "execution_count": 19,
   "metadata": {},
   "outputs": [
    {
     "data": {
      "text/plain": [
       "{'dislike': False,\n",
       " 'hate': False,\n",
       " 'you': False,\n",
       " 'like': True,\n",
       " 'her': False,\n",
       " 'i': True,\n",
       " 'me': False}"
      ]
     },
     "execution_count": 19,
     "metadata": {},
     "output_type": "execute_result"
    }
   ],
   "source": [
    "test_sent = 'i like blackpink'\n",
    "\n",
    "test_sent_feature = { word.lower() : \n",
    "                      ( word in  word_tokenize(test_sent.lower()))\n",
    "                      for word in all_words\n",
    "                    }\n",
    "test_sent_feature\n"
   ]
  },
  {
   "cell_type": "code",
   "execution_count": 20,
   "metadata": {},
   "outputs": [
    {
     "data": {
      "text/plain": [
       "'pos'"
      ]
     },
     "execution_count": 20,
     "metadata": {},
     "output_type": "execute_result"
    }
   ],
   "source": [
    "clf.classify(test_sent_feature)"
   ]
  }
 ],
 "metadata": {
  "kernelspec": {
   "display_name": "Python 3 (ipykernel)",
   "language": "python",
   "name": "python3"
  },
  "language_info": {
   "codemirror_mode": {
    "name": "ipython",
    "version": 3
   },
   "file_extension": ".py",
   "mimetype": "text/x-python",
   "name": "python",
   "nbconvert_exporter": "python",
   "pygments_lexer": "ipython3",
   "version": "3.9.13"
  }
 },
 "nbformat": 4,
 "nbformat_minor": 2
}
